{
 "cells": [
  {
   "cell_type": "code",
   "execution_count": 1,
   "metadata": {},
   "outputs": [
    {
     "name": "stderr",
     "output_type": "stream",
     "text": [
      "┌ Info: Installing sympy via the Conda sympy package...\n",
      "└ @ PyCall C:\\Users\\gmanu\\.julia\\packages\\PyCall\\1gn3u\\src\\PyCall.jl:719\n",
      "┌ Info: Running `conda install -y sympy` in root environment\n",
      "└ @ Conda C:\\Users\\gmanu\\.julia\\packages\\Conda\\zReqD\\src\\Conda.jl:181\n"
     ]
    },
    {
     "name": "stdout",
     "output_type": "stream",
     "text": [
      "Retrieving notices: done\n",
      "Channels:\n",
      " - defaults\n",
      " - conda-forge\n",
      "Platform: win-64\n",
      "Collecting package metadata (repodata.json): ...working... done\n",
      "Solving environment: ...working... done\n"
     ]
    },
    {
     "name": "stderr",
     "output_type": "stream",
     "text": [
      "\n",
      "\n",
      "==> WARNING: A newer version of conda exists. <==\n",
      "    current version: 24.11.3\n",
      "    latest version: 25.1.1\n",
      "\n",
      "Please update conda by running\n",
      "\n",
      "    $ conda update -n base -c conda-forge conda\n",
      "\n",
      "\n"
     ]
    },
    {
     "name": "stdout",
     "output_type": "stream",
     "text": [
      "\n",
      "## Package Plan ##\n",
      "\n",
      "  environment location: C:\\Users\\gmanu\\.julia\\conda\\3\\x86_64\n",
      "\n",
      "  added / updated specs:\n",
      "    - sympy\n",
      "\n",
      "\n",
      "The following packages will be downloaded:\n",
      "\n",
      "    package                    |            build\n",
      "    ---------------------------|-----------------\n",
      "    gmp-6.3.0                  |       h537511b_0         330 KB\n",
      "    gmpy2-2.2.1                |  py312h827c3e9_0         205 KB\n",
      "    mpc-1.3.1                  |       h827c3e9_0          85 KB\n",
      "    mpfr-4.2.1                 |       h56c3642_0         266 KB\n",
      "    mpmath-1.3.0               |  py312haa95532_0         989 KB\n",
      "    sympy-1.13.3               |  py312haa95532_1        15.0 MB\n",
      "    ------------------------------------------------------------\n",
      "                                           Total:        16.8 MB\n",
      "\n",
      "The following NEW packages will be INSTALLED:\n",
      "\n",
      "  gmp                pkgs/main/win-64::gmp-6.3.0-h537511b_0 \n",
      "  gmpy2              pkgs/main/win-64::gmpy2-2.2.1-py312h827c3e9_0 \n",
      "  mpc                pkgs/main/win-64::mpc-1.3.1-h827c3e9_0 \n",
      "  mpfr               pkgs/main/win-64::mpfr-4.2.1-h56c3642_0 \n",
      "  mpmath             pkgs/main/win-64::mpmath-1.3.0-py312haa95532_0 \n",
      "  sympy              pkgs/main/win-64::sympy-1.13.3-py312haa95532_1 \n",
      "\n",
      "\n",
      "\n",
      "sympy-1.13.3         | 15.0 MB   |            |   0% \n",
      "mpmath-1.3.0         | 989 KB    |            |   0% \u001b[A\n",
      "\n",
      "gmp-6.3.0            | 330 KB    |            |   0% \u001b[A\u001b[A\n",
      "\n",
      "\n",
      "mpfr-4.2.1           | 266 KB    |            |   0% \u001b[A\u001b[A\u001b[A\n",
      "\n",
      "\n",
      "\n",
      "gmpy2-2.2.1          | 205 KB    |            |   0% \u001b[A\u001b[A\u001b[A\u001b[A\n",
      "\n",
      "\n",
      "\n",
      "\n",
      "mpc-1.3.1            | 85 KB     |            |   0% \u001b[A\u001b[A\u001b[A\u001b[A\u001b[A\n",
      "mpmath-1.3.0         | 989 KB    | 1          |   2% \u001b[A\n",
      "\n",
      "\n",
      "mpfr-4.2.1           | 266 KB    | 6          |   6% \u001b[A\u001b[A\u001b[A\n",
      "\n",
      "\n",
      "\n",
      "gmpy2-2.2.1          | 205 KB    | 7          |   8% \u001b[A\u001b[A\u001b[A\u001b[A\n",
      "\n",
      "sympy-1.13.3         | 15.0 MB   |            |   0% \u001b[A\u001b[A\n",
      "sympy-1.13.3         | 15.0 MB   |            |   1% \u001b[A\n",
      "\n",
      "gmp-6.3.0            | 330 KB    | #4         |  15% \u001b[A\u001b[A\n",
      "\n",
      "\n",
      "sympy-1.13.3         | 15.0 MB   | 1          |   1% \u001b[A\u001b[A\u001b[A\n",
      "mpmath-1.3.0         | 989 KB    | #####5     |  55% \u001b[A\n",
      "mpmath-1.3.0         | 989 KB    | ########## | 100% \u001b[A\n",
      "\n",
      "gmp-6.3.0            | 330 KB    | ########## | 100% \u001b[A\u001b[A\n",
      "\n",
      "\n",
      "sympy-1.13.3         | 15.0 MB   | 3          |   4% \u001b[A\u001b[A\u001b[A\n",
      "\n",
      "\n",
      "\n",
      "gmpy2-2.2.1          | 205 KB    | #5         |  16% \u001b[A\u001b[A\u001b[A\u001b[A\n",
      "\n",
      "gmp-6.3.0            | 330 KB    | ########## | 100% \u001b[A\u001b[A\n",
      "\n",
      "sympy-1.13.3         | 15.0 MB   | 5          |   5% \u001b[A\u001b[A\n",
      "\n",
      "\n",
      "\n",
      "\n",
      "mpc-1.3.1            | 85 KB     | #8         |  19% \u001b[A\u001b[A\u001b[A\u001b[A\u001b[A\n",
      "\n",
      "\n",
      "\n",
      "\n",
      "mpc-1.3.1            | 85 KB     | ########## | 100% \u001b[A\u001b[A\u001b[A\u001b[A\u001b[A\n",
      "\n",
      "\n",
      "mpfr-4.2.1           | 266 KB    | #######2   |  72% \u001b[A\u001b[A\u001b[A\n",
      "\n",
      "\n",
      "sympy-1.13.3         | 15.0 MB   | #          |  10% \u001b[A\u001b[A\u001b[A\n",
      "\n",
      "\n",
      "\n",
      "\n",
      "mpc-1.3.1            | 85 KB     | ########## | 100% \u001b[A\u001b[A\u001b[A\u001b[A\u001b[A\n",
      "\n",
      "\n",
      "\n",
      "\n",
      "mpc-1.3.1            | 85 KB     | ########## | 100% \u001b[A\u001b[A\u001b[A\u001b[A\u001b[A\n",
      "\n",
      "\n",
      "mpfr-4.2.1           | 266 KB    | ########## | 100% \u001b[A\u001b[A\u001b[A\n",
      "\n",
      "\n",
      "sympy-1.13.3         | 15.0 MB   | #6         |  17% \u001b[A\u001b[A\u001b[A\n",
      "mpmath-1.3.0         | 989 KB    | ########## | 100% \u001b[A\n",
      "sympy-1.13.3         | 15.0 MB   | ##9        |  29% \u001b[A\n",
      "\n",
      "\n",
      "\n",
      "sympy-1.13.3         | 15.0 MB   | ###6       |  36% \u001b[A\u001b[A\u001b[A\u001b[A\n",
      "\n",
      "\n",
      "\n",
      "sympy-1.13.3         | 15.0 MB   | ####1      |  41% \u001b[A\u001b[A\u001b[A\u001b[A\n",
      "\n",
      "\n",
      "\n",
      "sympy-1.13.3         | 15.0 MB   | ####5      |  45% \u001b[A\u001b[A\u001b[A\u001b[A\n",
      "\n",
      "\n",
      "\n",
      "gmpy2-2.2.1          | 205 KB    | ########5  |  86% \u001b[A\u001b[A\u001b[A\u001b[A\n",
      "\n",
      "\n",
      "\n",
      "gmpy2-2.2.1          | 205 KB    | ########## | 100% \u001b[A\u001b[A\u001b[A\u001b[A\n",
      "\n",
      "\n",
      "\n",
      "                                                     \u001b[A\u001b[A\u001b[A\u001b[A\n",
      "                                                     \u001b[A\n",
      "\n",
      "                                                     \u001b[A\u001b[A\n",
      "\n",
      "\n",
      "                                                     \u001b[A\u001b[A\u001b[A\n",
      "\n",
      "\n",
      "\n",
      "                                                     \u001b[A\u001b[A\u001b[A\u001b[A\n",
      "\n",
      "\n",
      "\n",
      "\n",
      "                                                     \u001b[A\u001b[A\u001b[A\u001b[A\u001b[A done\n",
      "Preparing transaction: done\n",
      "Verifying transaction: done\n",
      "Executing transaction: done\n"
     ]
    }
   ],
   "source": [
    "using SymPy"
   ]
  },
  {
   "cell_type": "code",
   "execution_count": 2,
   "metadata": {},
   "outputs": [],
   "source": [
    "using LinearAlgebra"
   ]
  },
  {
   "cell_type": "code",
   "execution_count": 3,
   "metadata": {},
   "outputs": [
    {
     "data": {
      "text/plain": [
       "3×3 Matrix{Int64}:\n",
       " 1  2  3\n",
       " 4  1  6\n",
       " 7  8  1"
      ]
     },
     "metadata": {},
     "output_type": "display_data"
    }
   ],
   "source": [
    "A = [1 2 3; 4 1 6; 7 8 1]"
   ]
  },
  {
   "cell_type": "code",
   "execution_count": 6,
   "metadata": {},
   "outputs": [
    {
     "data": {
      "text/plain": [
       "3"
      ]
     },
     "metadata": {},
     "output_type": "display_data"
    }
   ],
   "source": [
    "tr(A)\n"
   ]
  },
  {
   "cell_type": "code",
   "execution_count": 8,
   "metadata": {},
   "outputs": [
    {
     "data": {
      "text/plain": [
       "104.0"
      ]
     },
     "metadata": {},
     "output_type": "display_data"
    }
   ],
   "source": [
    "det(A)"
   ]
  },
  {
   "cell_type": "code",
   "execution_count": 7,
   "metadata": {},
   "outputs": [
    {
     "data": {
      "text/plain": [
       "3×3 Matrix{Float64}:\n",
       " -0.451923   0.211538    0.0865385\n",
       "  0.365385  -0.192308    0.0576923\n",
       "  0.240385   0.0576923  -0.0673077"
      ]
     },
     "metadata": {},
     "output_type": "display_data"
    }
   ],
   "source": [
    "inv(A)\n"
   ]
  },
  {
   "cell_type": "markdown",
   "metadata": {},
   "source": [
    "MATRICES"
   ]
  },
  {
   "cell_type": "code",
   "execution_count": 11,
   "metadata": {},
   "outputs": [
    {
     "data": {
      "text/latex": [
       "$\\left[\\begin{smallmatrix}1 & -1\\\\3 & 4\\\\0 & 2\\end{smallmatrix}\\right]$"
      ],
      "text/plain": [
       "3×2 Matrix{Sym{PyCall.PyObject}}:\n",
       " 1  -1\n",
       " 3   4\n",
       " 0   2"
      ]
     },
     "metadata": {},
     "output_type": "display_data"
    }
   ],
   "source": [
    "sympy.Matrix([[1, -1], [3, 4], [0, 2]])"
   ]
  },
  {
   "cell_type": "markdown",
   "metadata": {},
   "source": [
    "También se puede reescribir como"
   ]
  },
  {
   "cell_type": "code",
   "execution_count": 12,
   "metadata": {},
   "outputs": [
    {
     "data": {
      "text/latex": [
       "$\\left[\\begin{smallmatrix}1 & -1\\\\3 & 4\\\\0 & 2\\end{smallmatrix}\\right]$"
      ],
      "text/plain": [
       "3×2 Matrix{Sym}:\n",
       " 1  -1\n",
       " 3   4\n",
       " 0   2"
      ]
     },
     "metadata": {},
     "output_type": "display_data"
    }
   ],
   "source": [
    "Sym[1 -1; 3 4 ; 0 2]"
   ]
  },
  {
   "cell_type": "code",
   "execution_count": 13,
   "metadata": {},
   "outputs": [
    {
     "data": {
      "text/latex": [
       "$\\left[\\begin{smallmatrix}1 & -1\\\\3 & 4\\\\0 & 2\\end{smallmatrix}\\right]$"
      ],
      "text/plain": [
       "3×2 Matrix{Sym{PyCall.PyObject}}:\n",
       " 1  -1\n",
       " 3   4\n",
       " 0   2"
      ]
     },
     "metadata": {},
     "output_type": "display_data"
    }
   ],
   "source": [
    "[Sym(1) -1; 3 4 ; 0 2]"
   ]
  },
  {
   "cell_type": "code",
   "execution_count": 17,
   "metadata": {},
   "outputs": [
    {
     "data": {
      "text/latex": [
       "$\\left[\\begin{smallmatrix}1 & -1\\\\3 & 4\\\\0 & 2\\end{smallmatrix}\\right]$"
      ],
      "text/plain": [
       "3×2 Matrix{Sym{PyCall.PyObject}}:\n",
       " 1  -1\n",
       " 3   4\n",
       " 0   2"
      ]
     },
     "metadata": {},
     "output_type": "display_data"
    }
   ],
   "source": [
    "[Sym(1) Sym(-1); 3 4 ; 0 2]"
   ]
  },
  {
   "cell_type": "code",
   "execution_count": 15,
   "metadata": {},
   "outputs": [
    {
     "data": {
      "text/latex": [
       "$\\left[\\begin{smallmatrix}1\\\\2\\\\3\\end{smallmatrix}\\right]$"
      ],
      "text/plain": [
       "3×1 Matrix{Sym{PyCall.PyObject}}:\n",
       " 1\n",
       " 2\n",
       " 3"
      ]
     },
     "metadata": {},
     "output_type": "display_data"
    }
   ],
   "source": [
    "sympy.Matrix([1, 2, 3])"
   ]
  },
  {
   "cell_type": "code",
   "execution_count": 16,
   "metadata": {},
   "outputs": [
    {
     "data": {
      "text/latex": [
       "$\\left[\\begin{smallmatrix}1\\\\2\\\\3\\end{smallmatrix}\\right]$"
      ],
      "text/plain": [
       "3-element Vector{Sym}:\n",
       " 1\n",
       " 2\n",
       " 3"
      ]
     },
     "metadata": {},
     "output_type": "display_data"
    }
   ],
   "source": [
    "Sym[1,2,3]"
   ]
  },
  {
   "cell_type": "markdown",
   "metadata": {},
   "source": [
    "Operaciones de matrices\n"
   ]
  },
  {
   "cell_type": "code",
   "execution_count": 22,
   "metadata": {},
   "outputs": [
    {
     "data": {
      "text/latex": [
       "$\\left[\\begin{smallmatrix}1 & 2 & 3\\\\3 & 2 & 1\\end{smallmatrix}\\right]$"
      ],
      "text/plain": [
       "2×3 Matrix{Sym}:\n",
       " 1  2  3\n",
       " 3  2  1"
      ]
     },
     "metadata": {},
     "output_type": "display_data"
    }
   ],
   "source": [
    "M = Sym[1 2 3; 3 2 1]"
   ]
  },
  {
   "cell_type": "code",
   "execution_count": 23,
   "metadata": {},
   "outputs": [
    {
     "data": {
      "text/latex": [
       "$\\left[\\begin{smallmatrix}0\\\\1\\\\1\\end{smallmatrix}\\right]$"
      ],
      "text/plain": [
       "3-element Vector{Sym}:\n",
       " 0\n",
       " 1\n",
       " 1"
      ]
     },
     "metadata": {},
     "output_type": "display_data"
    }
   ],
   "source": [
    "N = Sym[0, 1, 1]"
   ]
  },
  {
   "cell_type": "code",
   "execution_count": 24,
   "metadata": {},
   "outputs": [
    {
     "data": {
      "text/latex": [
       "$\\left[\\begin{smallmatrix}5\\\\3\\end{smallmatrix}\\right]$"
      ],
      "text/plain": [
       "2-element Vector{Sym}:\n",
       " 5\n",
       " 3"
      ]
     },
     "metadata": {},
     "output_type": "display_data"
    }
   ],
   "source": [
    "M * N "
   ]
  },
  {
   "cell_type": "markdown",
   "metadata": {},
   "source": [
    "Shape para obtener la forma de una matriz"
   ]
  },
  {
   "cell_type": "code",
   "execution_count": 45,
   "metadata": {},
   "outputs": [
    {
     "data": {
      "text/latex": [
       "$\\left[\\begin{smallmatrix}1 & 2 & 3\\\\-2 & 0 & 4\\end{smallmatrix}\\right]$"
      ],
      "text/plain": [
       "2×3 Matrix{Sym}:\n",
       "  1  2  3\n",
       " -2  0  4"
      ]
     },
     "metadata": {},
     "output_type": "display_data"
    }
   ],
   "source": [
    " B = Sym[1 2 3; -2 0 4]"
   ]
  },
  {
   "cell_type": "code",
   "execution_count": 27,
   "metadata": {},
   "outputs": [
    {
     "data": {
      "text/plain": [
       "(2, 3)"
      ]
     },
     "metadata": {},
     "output_type": "display_data"
    }
   ],
   "source": [
    "B.shape"
   ]
  },
  {
   "cell_type": "code",
   "execution_count": 28,
   "metadata": {},
   "outputs": [
    {
     "data": {
      "text/plain": [
       "(2, 3)"
      ]
     },
     "metadata": {},
     "output_type": "display_data"
    }
   ],
   "source": [
    "size(B)"
   ]
  },
  {
   "cell_type": "markdown",
   "metadata": {},
   "source": [
    "Filas y columnas "
   ]
  },
  {
   "cell_type": "code",
   "execution_count": 31,
   "metadata": {},
   "outputs": [
    {
     "data": {
      "text/latex": [
       "$\\left[\\begin{smallmatrix}1 & 2 & 3\\end{smallmatrix}\\right]$"
      ],
      "text/plain": [
       "1×3 Matrix{Sym{PyCall.PyObject}}:\n",
       " 1  2  3"
      ]
     },
     "metadata": {},
     "output_type": "display_data"
    }
   ],
   "source": [
    "B.row(0)"
   ]
  },
  {
   "cell_type": "code",
   "execution_count": 32,
   "metadata": {},
   "outputs": [
    {
     "data": {
      "text/latex": [
       "$\\left[\\begin{smallmatrix}-2 & 0 & 4\\end{smallmatrix}\\right]$"
      ],
      "text/plain": [
       "1×3 Matrix{Sym{PyCall.PyObject}}:\n",
       " -2  0  4"
      ]
     },
     "metadata": {},
     "output_type": "display_data"
    }
   ],
   "source": [
    "B.row(1)"
   ]
  },
  {
   "cell_type": "code",
   "execution_count": 33,
   "metadata": {},
   "outputs": [
    {
     "data": {
      "text/latex": [
       "$\\left[\\begin{smallmatrix}3\\\\4\\end{smallmatrix}\\right]$"
      ],
      "text/plain": [
       "2×1 Matrix{Sym{PyCall.PyObject}}:\n",
       " 3\n",
       " 4"
      ]
     },
     "metadata": {},
     "output_type": "display_data"
    }
   ],
   "source": [
    "B.col(-1)"
   ]
  },
  {
   "cell_type": "code",
   "execution_count": 34,
   "metadata": {},
   "outputs": [
    {
     "data": {
      "text/latex": [
       "$\\left[\\begin{smallmatrix}1\\\\-2\\end{smallmatrix}\\right]$"
      ],
      "text/plain": [
       "2×1 Matrix{Sym{PyCall.PyObject}}:\n",
       "  1\n",
       " -2"
      ]
     },
     "metadata": {},
     "output_type": "display_data"
    }
   ],
   "source": [
    "B.col(0)"
   ]
  },
  {
   "cell_type": "code",
   "execution_count": 35,
   "metadata": {},
   "outputs": [
    {
     "data": {
      "text/latex": [
       "$\\left[\\begin{smallmatrix}2\\\\0\\end{smallmatrix}\\right]$"
      ],
      "text/plain": [
       "2×1 Matrix{Sym{PyCall.PyObject}}:\n",
       " 2\n",
       " 0"
      ]
     },
     "metadata": {},
     "output_type": "display_data"
    }
   ],
   "source": [
    "B.col(1)"
   ]
  },
  {
   "cell_type": "code",
   "execution_count": 36,
   "metadata": {},
   "outputs": [
    {
     "data": {
      "text/latex": [
       "$\\left[\\begin{smallmatrix}3\\\\4\\end{smallmatrix}\\right]$"
      ],
      "text/plain": [
       "2×1 Matrix{Sym{PyCall.PyObject}}:\n",
       " 3\n",
       " 4"
      ]
     },
     "metadata": {},
     "output_type": "display_data"
    }
   ],
   "source": [
    "B.col(2)"
   ]
  },
  {
   "cell_type": "code",
   "execution_count": 37,
   "metadata": {},
   "outputs": [
    {
     "data": {
      "text/latex": [
       "$\\left[\\begin{smallmatrix}1\\\\2\\\\3\\end{smallmatrix}\\right]$"
      ],
      "text/plain": [
       "3-element Vector{Sym}:\n",
       " 1\n",
       " 2\n",
       " 3"
      ]
     },
     "metadata": {},
     "output_type": "display_data"
    }
   ],
   "source": [
    "B[1,:]"
   ]
  },
  {
   "cell_type": "code",
   "execution_count": 39,
   "metadata": {},
   "outputs": [
    {
     "data": {
      "text/latex": [
       "$\\left[\\begin{smallmatrix}-2\\\\0\\\\4\\end{smallmatrix}\\right]$"
      ],
      "text/plain": [
       "3-element Vector{Sym}:\n",
       " -2\n",
       "  0\n",
       "  4"
      ]
     },
     "metadata": {},
     "output_type": "display_data"
    }
   ],
   "source": [
    "B[2,:]"
   ]
  },
  {
   "cell_type": "code",
   "execution_count": 40,
   "metadata": {},
   "outputs": [
    {
     "data": {
      "text/latex": [
       "$\\left[\\begin{smallmatrix}1\\\\-2\\end{smallmatrix}\\right]$"
      ],
      "text/plain": [
       "2-element Vector{Sym}:\n",
       "  1\n",
       " -2"
      ]
     },
     "metadata": {},
     "output_type": "display_data"
    }
   ],
   "source": [
    "B[:,1]"
   ]
  },
  {
   "cell_type": "code",
   "execution_count": 38,
   "metadata": {},
   "outputs": [
    {
     "data": {
      "text/latex": [
       "$\\left[\\begin{smallmatrix}3\\\\4\\end{smallmatrix}\\right]$"
      ],
      "text/plain": [
       "2-element Vector{Sym}:\n",
       " 3\n",
       " 4"
      ]
     },
     "metadata": {},
     "output_type": "display_data"
    }
   ],
   "source": [
    "B[:,end]"
   ]
  },
  {
   "cell_type": "markdown",
   "metadata": {},
   "source": [
    "Borrando y adjuntato filas y columnas"
   ]
  },
  {
   "cell_type": "code",
   "execution_count": 61,
   "metadata": {},
   "outputs": [
    {
     "data": {
      "text/latex": [
       "$\\left[\\begin{smallmatrix}1 & 2 & 3\\\\-2 & 0 & 4\\end{smallmatrix}\\right]$"
      ],
      "text/plain": [
       "2×3 Matrix{Sym{PyCall.PyObject}}:\n",
       "  1  2  3\n",
       " -2  0  4"
      ]
     },
     "metadata": {},
     "output_type": "display_data"
    }
   ],
   "source": [
    "B = sympy.Matrix([[1, 2, 3], [-2, 0, 4]])"
   ]
  },
  {
   "cell_type": "code",
   "execution_count": 62,
   "metadata": {},
   "outputs": [
    {
     "data": {
      "text/latex": [
       "$\\left[\\begin{smallmatrix}1 & 2 & 3\\\\-2 & 0 & 4\\end{smallmatrix}\\right]$"
      ],
      "text/plain": [
       "[1   2  3]\n",
       "[        ]\n",
       "[-2  0  4]"
      ]
     },
     "metadata": {},
     "output_type": "display_data"
    }
   ],
   "source": [
    "B = sympy.ImmutableMatrix([[1, 2, 3], [-2, 0, 4]])"
   ]
  },
  {
   "cell_type": "code",
   "execution_count": 63,
   "metadata": {},
   "outputs": [
    {
     "data": {
      "text/latex": [
       "$\\left[\\begin{smallmatrix}2 & 3\\\\0 & 4\\end{smallmatrix}\\right]$"
      ],
      "text/plain": [
       "[2  3]\n",
       "[    ]\n",
       "[0  4]"
      ]
     },
     "metadata": {},
     "output_type": "display_data"
    }
   ],
   "source": [
    "B.col_del(0)"
   ]
  },
  {
   "cell_type": "code",
   "execution_count": 66,
   "metadata": {},
   "outputs": [
    {
     "data": {
      "text/latex": [
       "$\\left[\\begin{smallmatrix}1 & 2 & 3\\end{smallmatrix}\\right]$"
      ],
      "text/plain": [
       "[1  2  3]"
      ]
     },
     "metadata": {},
     "output_type": "display_data"
    }
   ],
   "source": [
    "B.row_del(1)"
   ]
  },
  {
   "cell_type": "code",
   "execution_count": 67,
   "metadata": {},
   "outputs": [
    {
     "data": {
      "text/plain": [
       "(x,)"
      ]
     },
     "metadata": {},
     "output_type": "display_data"
    }
   ],
   "source": [
    "@syms x"
   ]
  },
  {
   "cell_type": "code",
   "execution_count": 68,
   "metadata": {},
   "outputs": [
    {
     "data": {
      "text/latex": [
       "$\\left[\\begin{smallmatrix}x & 1\\\\1 & x\\end{smallmatrix}\\right]$"
      ],
      "text/plain": [
       "[x  1]\n",
       "[    ]\n",
       "[1  x]"
      ]
     },
     "metadata": {},
     "output_type": "display_data"
    }
   ],
   "source": [
    "sympy.ImmutableMatrix([x 1;  1  x])"
   ]
  },
  {
   "cell_type": "code",
   "execution_count": 69,
   "metadata": {},
   "outputs": [
    {
     "data": {
      "text/latex": [
       "$\\left[\\begin{smallmatrix}2 & 3\\end{smallmatrix}\\right]$"
      ],
      "text/plain": [
       "[2  3]"
      ]
     },
     "metadata": {},
     "output_type": "display_data"
    }
   ],
   "source": [
    "M = sympy.ImmutableMatrix([2 3])"
   ]
  },
  {
   "cell_type": "code",
   "execution_count": 70,
   "metadata": {},
   "outputs": [
    {
     "data": {
      "text/latex": [
       "$\\left[\\begin{smallmatrix}2 & 3\\\\0 & 4\\end{smallmatrix}\\right]$"
      ],
      "text/plain": [
       "[2  3]\n",
       "[    ]\n",
       "[0  4]"
      ]
     },
     "metadata": {},
     "output_type": "display_data"
    }
   ],
   "source": [
    "M = M.row_insert(1, Sym[0 4])"
   ]
  },
  {
   "cell_type": "code",
   "execution_count": 71,
   "metadata": {},
   "outputs": [
    {
     "data": {
      "text/latex": [
       "$\\left[\\begin{smallmatrix}1 & 2 & 3\\\\-2 & 0 & 4\\end{smallmatrix}\\right]$"
      ],
      "text/plain": [
       "[1   2  3]\n",
       "[        ]\n",
       "[-2  0  4]"
      ]
     },
     "metadata": {},
     "output_type": "display_data"
    }
   ],
   "source": [
    "M = M.col_insert(0, Sym[1, -2])"
   ]
  },
  {
   "cell_type": "markdown",
   "metadata": {},
   "source": [
    "Métodos básicos"
   ]
  },
  {
   "cell_type": "code",
   "execution_count": 73,
   "metadata": {},
   "outputs": [
    {
     "data": {
      "text/latex": [
       "$\\left[\\begin{smallmatrix}1 & 3\\\\-2 & 3\\end{smallmatrix}\\right]$"
      ],
      "text/plain": [
       "2×2 Matrix{Sym{PyCall.PyObject}}:\n",
       "  1  3\n",
       " -2  3"
      ]
     },
     "metadata": {},
     "output_type": "display_data"
    }
   ],
   "source": [
    "M = sympy.Matrix([[1, 3], [-2, 3]])"
   ]
  },
  {
   "cell_type": "code",
   "execution_count": 74,
   "metadata": {},
   "outputs": [
    {
     "data": {
      "text/latex": [
       "$\\left[\\begin{smallmatrix}0 & 3\\\\0 & 7\\end{smallmatrix}\\right]$"
      ],
      "text/plain": [
       "2×2 Matrix{Sym{PyCall.PyObject}}:\n",
       " 0  3\n",
       " 0  7"
      ]
     },
     "metadata": {},
     "output_type": "display_data"
    }
   ],
   "source": [
    "N = sympy.Matrix([[0, 3], [0, 7]])"
   ]
  },
  {
   "cell_type": "code",
   "execution_count": 75,
   "metadata": {},
   "outputs": [
    {
     "data": {
      "text/latex": [
       "$\\left[\\begin{smallmatrix}1 & 6\\\\-2 & 10\\end{smallmatrix}\\right]$"
      ],
      "text/plain": [
       "2×2 Matrix{Sym{PyCall.PyObject}}:\n",
       "  1   6\n",
       " -2  10"
      ]
     },
     "metadata": {},
     "output_type": "display_data"
    }
   ],
   "source": [
    "M+N"
   ]
  },
  {
   "cell_type": "code",
   "execution_count": 76,
   "metadata": {},
   "outputs": [
    {
     "data": {
      "text/latex": [
       "$\\left[\\begin{smallmatrix}1 & 0\\\\-2 & -4\\end{smallmatrix}\\right]$"
      ],
      "text/plain": [
       "2×2 Matrix{Sym{PyCall.PyObject}}:\n",
       "  1   0\n",
       " -2  -4"
      ]
     },
     "metadata": {},
     "output_type": "display_data"
    }
   ],
   "source": [
    "M-N"
   ]
  },
  {
   "cell_type": "code",
   "execution_count": 77,
   "metadata": {},
   "outputs": [
    {
     "data": {
      "text/latex": [
       "$\\left[\\begin{smallmatrix}0 & 24\\\\0 & 15\\end{smallmatrix}\\right]$"
      ],
      "text/plain": [
       "2×2 Matrix{Sym{PyCall.PyObject}}:\n",
       " 0  24\n",
       " 0  15"
      ]
     },
     "metadata": {},
     "output_type": "display_data"
    }
   ],
   "source": [
    "M*N"
   ]
  },
  {
   "cell_type": "code",
   "execution_count": 78,
   "metadata": {},
   "outputs": [
    {
     "data": {
      "text/latex": [
       "$\\left[\\begin{smallmatrix}3 & 9\\\\-6 & 9\\end{smallmatrix}\\right]$"
      ],
      "text/plain": [
       "2×2 Matrix{Sym{PyCall.PyObject}}:\n",
       "  3  9\n",
       " -6  9"
      ]
     },
     "metadata": {},
     "output_type": "display_data"
    }
   ],
   "source": [
    "3*M"
   ]
  },
  {
   "cell_type": "code",
   "execution_count": 82,
   "metadata": {},
   "outputs": [
    {
     "data": {
      "text/latex": [
       "$\\left[\\begin{smallmatrix}-5 & 12\\\\-8 & 3\\end{smallmatrix}\\right]$"
      ],
      "text/plain": [
       "2×2 Matrix{Sym{PyCall.PyObject}}:\n",
       " -5  12\n",
       " -8   3"
      ]
     },
     "metadata": {},
     "output_type": "display_data"
    }
   ],
   "source": [
    "M*M"
   ]
  },
  {
   "cell_type": "code",
   "execution_count": 84,
   "metadata": {},
   "outputs": [
    {
     "data": {
      "text/latex": [
       "$\\left[\\begin{smallmatrix}-5 & 12\\\\-8 & 3\\end{smallmatrix}\\right]$"
      ],
      "text/plain": [
       "2×2 Matrix{Sym{PyCall.PyObject}}:\n",
       " -5  12\n",
       " -8   3"
      ]
     },
     "metadata": {},
     "output_type": "display_data"
    }
   ],
   "source": [
    "M^2"
   ]
  },
  {
   "cell_type": "code",
   "execution_count": 85,
   "metadata": {},
   "outputs": [
    {
     "data": {
      "text/latex": [
       "$\\left[\\begin{smallmatrix}\\frac{1}{3} & - \\frac{1}{3}\\\\\\frac{2}{9} & \\frac{1}{9}\\end{smallmatrix}\\right]$"
      ],
      "text/plain": [
       "2×2 Matrix{Sym{PyCall.PyObject}}:\n",
       " 1/3  -1/3\n",
       " 2/9   1/9"
      ]
     },
     "metadata": {},
     "output_type": "display_data"
    }
   ],
   "source": [
    "M^-1"
   ]
  },
  {
   "cell_type": "code",
   "execution_count": 86,
   "metadata": {},
   "outputs": [
    {
     "data": {
      "text/latex": [
       "$\\left[\\begin{smallmatrix}0 & 21\\\\0 & 49\\end{smallmatrix}\\right]$"
      ],
      "text/plain": [
       "2×2 Matrix{Sym{PyCall.PyObject}}:\n",
       " 0  21\n",
       " 0  49"
      ]
     },
     "metadata": {},
     "output_type": "display_data"
    }
   ],
   "source": [
    "N^2"
   ]
  },
  {
   "cell_type": "code",
   "execution_count": 88,
   "metadata": {},
   "outputs": [
    {
     "data": {
      "text/latex": [
       "$\\left[\\begin{smallmatrix}1 & 3\\\\-2 & 3\\end{smallmatrix}\\right]$"
      ],
      "text/plain": [
       "[1   3]\n",
       "[     ]\n",
       "[-2  3]"
      ]
     },
     "metadata": {},
     "output_type": "display_data"
    }
   ],
   "source": [
    "M = sympy.ImmutableMatrix([1 3; -2 3])"
   ]
  },
  {
   "cell_type": "code",
   "execution_count": 89,
   "metadata": {},
   "outputs": [
    {
     "data": {
      "text/latex": [
       "$\\left[\\begin{smallmatrix}0 & 3\\\\0 & 7\\end{smallmatrix}\\right]$"
      ],
      "text/plain": [
       "[0  3]\n",
       "[    ]\n",
       "[0  7]"
      ]
     },
     "metadata": {},
     "output_type": "display_data"
    }
   ],
   "source": [
    "M1 = sympy.ImmutableMatrix([0 3; 0 7])"
   ]
  },
  {
   "cell_type": "code",
   "execution_count": 90,
   "metadata": {},
   "outputs": [
    {
     "data": {
      "text/latex": [
       "$\\left[\\begin{smallmatrix}1 & 6\\\\-2 & 10\\end{smallmatrix}\\right]$"
      ],
      "text/plain": [
       "[1   6 ]\n",
       "[      ]\n",
       "[-2  10]"
      ]
     },
     "metadata": {},
     "output_type": "display_data"
    }
   ],
   "source": [
    "M + M1"
   ]
  },
  {
   "cell_type": "code",
   "execution_count": 91,
   "metadata": {},
   "outputs": [
    {
     "data": {
      "text/latex": [
       "$\\left[\\begin{smallmatrix}0 & 24\\\\0 & 15\\end{smallmatrix}\\right]$"
      ],
      "text/plain": [
       "[0  24]\n",
       "[     ]\n",
       "[0  15]"
      ]
     },
     "metadata": {},
     "output_type": "display_data"
    }
   ],
   "source": [
    "M*M1"
   ]
  },
  {
   "cell_type": "markdown",
   "metadata": {},
   "source": [
    "Tranpuesta"
   ]
  },
  {
   "cell_type": "code",
   "execution_count": 93,
   "metadata": {},
   "outputs": [
    {
     "data": {
      "text/latex": [
       "$\\left[\\begin{smallmatrix}1 & 2 & 3\\\\4 & 5 & 6\\end{smallmatrix}\\right]$"
      ],
      "text/plain": [
       "2×3 Matrix{Sym{PyCall.PyObject}}:\n",
       " 1  2  3\n",
       " 4  5  6"
      ]
     },
     "metadata": {},
     "output_type": "display_data"
    }
   ],
   "source": [
    "M = sympy.Matrix([[1, 2, 3], [4, 5, 6]])"
   ]
  },
  {
   "cell_type": "code",
   "execution_count": 94,
   "metadata": {},
   "outputs": [
    {
     "data": {
      "text/latex": [
       "$\\left[\\begin{smallmatrix}1 & 4\\\\2 & 5\\\\3 & 6\\end{smallmatrix}\\right]$"
      ],
      "text/plain": [
       "3×2 Matrix{Sym{PyCall.PyObject}}:\n",
       " 1  4\n",
       " 2  5\n",
       " 3  6"
      ]
     },
     "metadata": {},
     "output_type": "display_data"
    }
   ],
   "source": [
    "M.T"
   ]
  },
  {
   "cell_type": "code",
   "execution_count": 95,
   "metadata": {},
   "outputs": [
    {
     "data": {
      "text/latex": [
       "$\\left[\\begin{smallmatrix}0 & 0\\\\3 & 7\\end{smallmatrix}\\right]$"
      ],
      "text/plain": [
       "[0  0]\n",
       "[    ]\n",
       "[3  7]"
      ]
     },
     "metadata": {},
     "output_type": "display_data"
    }
   ],
   "source": [
    "M1.T"
   ]
  },
  {
   "cell_type": "markdown",
   "metadata": {},
   "source": [
    "Construir matrices"
   ]
  },
  {
   "cell_type": "code",
   "execution_count": 100,
   "metadata": {},
   "outputs": [
    {
     "data": {
      "text/latex": [
       "$\\left[\\begin{smallmatrix}1 & 0 & 0\\\\0 & 1 & 0\\\\0 & 0 & 1\\end{smallmatrix}\\right]$"
      ],
      "text/plain": [
       "3×3 Matrix{Sym{PyCall.PyObject}}:\n",
       " 1  0  0\n",
       " 0  1  0\n",
       " 0  0  1"
      ]
     },
     "metadata": {},
     "output_type": "display_data"
    }
   ],
   "source": [
    "sympy.eye(3)"
   ]
  },
  {
   "cell_type": "code",
   "execution_count": 101,
   "metadata": {},
   "outputs": [
    {
     "data": {
      "text/latex": [
       "$\\left[\\begin{smallmatrix}1 & 0 & 0 & 0\\\\0 & 1 & 0 & 0\\\\0 & 0 & 1 & 0\\\\0 & 0 & 0 & 1\\end{smallmatrix}\\right]$"
      ],
      "text/plain": [
       "4×4 Matrix{Sym{PyCall.PyObject}}:\n",
       " 1  0  0  0\n",
       " 0  1  0  0\n",
       " 0  0  1  0\n",
       " 0  0  0  1"
      ]
     },
     "metadata": {},
     "output_type": "display_data"
    }
   ],
   "source": [
    "sympy.eye(4)"
   ]
  },
  {
   "cell_type": "code",
   "execution_count": 102,
   "metadata": {},
   "outputs": [
    {
     "data": {
      "text/latex": [
       "$\\left[\\begin{smallmatrix}2.5 & 0 & 0\\\\0 & 2.5 & 0\\\\0 & 0 & 2.5\\end{smallmatrix}\\right]$"
      ],
      "text/plain": [
       "3×3 Matrix{Sym{PyCall.PyObject}}:\n",
       " 2.50000000000000                 0                 0\n",
       "                0  2.50000000000000                 0\n",
       "                0                 0  2.50000000000000"
      ]
     },
     "metadata": {},
     "output_type": "display_data"
    }
   ],
   "source": [
    "5/2*sympy.eye(3)"
   ]
  },
  {
   "cell_type": "code",
   "execution_count": 103,
   "metadata": {},
   "outputs": [
    {
     "data": {
      "text/latex": [
       "$\\left[\\begin{smallmatrix}0 & 0 & 0\\\\0 & 0 & 0\\end{smallmatrix}\\right]$"
      ],
      "text/plain": [
       "2×3 Matrix{Sym{PyCall.PyObject}}:\n",
       " 0  0  0\n",
       " 0  0  0"
      ]
     },
     "metadata": {},
     "output_type": "display_data"
    }
   ],
   "source": [
    "sympy.zeros(2, 3)"
   ]
  },
  {
   "cell_type": "code",
   "execution_count": 105,
   "metadata": {},
   "outputs": [
    {
     "data": {
      "text/latex": [
       "$\\left[\\begin{smallmatrix}0 & 0 & 0\\\\0 & 0 & 0\\end{smallmatrix}\\right]$"
      ],
      "text/plain": [
       "2×3 Matrix{Sym{PyCall.PyObject}}:\n",
       " 0  0  0\n",
       " 0  0  0"
      ]
     },
     "metadata": {},
     "output_type": "display_data"
    }
   ],
   "source": [
    "sympy.zeros(Sym(2), 3)"
   ]
  },
  {
   "cell_type": "code",
   "execution_count": 108,
   "metadata": {},
   "outputs": [
    {
     "data": {
      "text/plain": [
       "3×2 Matrix{Float64}:\n",
       " 1.0  1.0\n",
       " 1.0  1.0\n",
       " 1.0  1.0"
      ]
     },
     "metadata": {},
     "output_type": "display_data"
    }
   ],
   "source": [
    "ones(3,2)"
   ]
  },
  {
   "cell_type": "code",
   "execution_count": 110,
   "metadata": {},
   "outputs": [
    {
     "data": {
      "text/latex": [
       "$\\left[\\begin{smallmatrix}1 & 0 & 0\\\\0 & 2 & 0\\\\0 & 0 & 3\\end{smallmatrix}\\right]$"
      ],
      "text/plain": [
       "3×3 Matrix{Sym{PyCall.PyObject}}:\n",
       " 1  0  0\n",
       " 0  2  0\n",
       " 0  0  3"
      ]
     },
     "metadata": {},
     "output_type": "display_data"
    }
   ],
   "source": [
    "sympy.diag(1, 2, 3)"
   ]
  },
  {
   "cell_type": "code",
   "execution_count": 111,
   "metadata": {},
   "outputs": [
    {
     "data": {
      "text/latex": [
       "$\\left[\\begin{smallmatrix}-1 & 0 & 0 & 0\\\\0 & 1 & 1 & 0\\\\0 & 1 & 1 & 0\\\\0 & 0 & 0 & 5\\\\0 & 0 & 0 & 7\\\\0 & 0 & 0 & 5\\end{smallmatrix}\\right]$"
      ],
      "text/plain": [
       "6×4 Matrix{Sym{PyCall.PyObject}}:\n",
       " -1  0  0  0\n",
       "  0  1  1  0\n",
       "  0  1  1  0\n",
       "  0  0  0  5\n",
       "  0  0  0  7\n",
       "  0  0  0  5"
      ]
     },
     "metadata": {},
     "output_type": "display_data"
    }
   ],
   "source": [
    "sympy.diag(-1, sympy.ones(2, 2), sympy.Matrix([5, 7, 5]))"
   ]
  },
  {
   "cell_type": "code",
   "execution_count": 112,
   "metadata": {},
   "outputs": [
    {
     "data": {
      "text/latex": [
       "$\\left[\\begin{smallmatrix}1 & 0 & 0\\\\0 & 2 & 0\\\\0 & 0 & 3\\end{smallmatrix}\\right]$"
      ],
      "text/plain": [
       "3×3 Matrix{Sym{PyCall.PyObject}}:\n",
       " 1  0  0\n",
       " 0  2  0\n",
       " 0  0  3"
      ]
     },
     "metadata": {},
     "output_type": "display_data"
    }
   ],
   "source": [
    "diagm(0 => Sym[1,2,3])"
   ]
  },
  {
   "cell_type": "markdown",
   "metadata": {},
   "source": [
    "Métodos avanzados"
   ]
  },
  {
   "cell_type": "code",
   "execution_count": 113,
   "metadata": {},
   "outputs": [
    {
     "data": {
      "text/latex": [
       "$\\left[\\begin{smallmatrix}1 & 0 & 1\\\\2 & -1 & 3\\\\4 & 3 & 2\\end{smallmatrix}\\right]$"
      ],
      "text/plain": [
       "3×3 Matrix{Sym{PyCall.PyObject}}:\n",
       " 1   0  1\n",
       " 2  -1  3\n",
       " 4   3  2"
      ]
     },
     "metadata": {},
     "output_type": "display_data"
    }
   ],
   "source": [
    "M = sympy.Matrix([[1, 0, 1], [2, -1, 3], [4, 3, 2]])"
   ]
  },
  {
   "cell_type": "code",
   "execution_count": 114,
   "metadata": {},
   "outputs": [
    {
     "data": {
      "text/latex": [
       "$-1$"
      ],
      "text/plain": [
       "-1"
      ]
     },
     "metadata": {},
     "output_type": "display_data"
    }
   ],
   "source": [
    "M.det()"
   ]
  },
  {
   "cell_type": "code",
   "execution_count": 115,
   "metadata": {},
   "outputs": [
    {
     "data": {
      "text/latex": [
       "$-1$"
      ],
      "text/plain": [
       "-1"
      ]
     },
     "metadata": {},
     "output_type": "display_data"
    }
   ],
   "source": [
    "det(M)"
   ]
  },
  {
   "cell_type": "code",
   "execution_count": 116,
   "metadata": {},
   "outputs": [
    {
     "data": {
      "text/plain": [
       "(x,)"
      ]
     },
     "metadata": {},
     "output_type": "display_data"
    }
   ],
   "source": [
    "@syms x"
   ]
  },
  {
   "cell_type": "code",
   "execution_count": 117,
   "metadata": {},
   "outputs": [
    {
     "data": {
      "text/latex": [
       "$\\left[\\begin{smallmatrix}x & 1\\\\1 & x\\end{smallmatrix}\\right]$"
      ],
      "text/plain": [
       "2×2 Matrix{Sym}:\n",
       " x  1\n",
       " 1  x"
      ]
     },
     "metadata": {},
     "output_type": "display_data"
    }
   ],
   "source": [
    "A = Sym[x 1; 1 x]"
   ]
  },
  {
   "cell_type": "code",
   "execution_count": 118,
   "metadata": {},
   "outputs": [
    {
     "data": {
      "text/latex": [
       "$x^{2} - 1$"
      ],
      "text/plain": [
       " 2    \n",
       "x  - 1"
      ]
     },
     "metadata": {},
     "output_type": "display_data"
    }
   ],
   "source": [
    "det(A)"
   ]
  },
  {
   "cell_type": "code",
   "execution_count": 119,
   "metadata": {},
   "outputs": [
    {
     "data": {
      "text/latex": [
       "$x^{2} - 1$"
      ],
      "text/plain": [
       " 2    \n",
       "x  - 1"
      ]
     },
     "metadata": {},
     "output_type": "display_data"
    }
   ],
   "source": [
    "A.det()"
   ]
  },
  {
   "cell_type": "code",
   "execution_count": 122,
   "metadata": {},
   "outputs": [
    {
     "data": {
      "text/plain": [
       "LU{Sym{PyCall.PyObject}, Matrix{Sym{PyCall.PyObject}}, Vector{Int64}}\n",
       "L factor:\n",
       "2×2 Matrix{Sym{PyCall.PyObject}}:\n",
       "   1  0\n",
       " 1/x  1\n",
       "U factor:\n",
       "2×2 Matrix{Sym{PyCall.PyObject}}:\n",
       " x        1\n",
       " 0  x - 1/x"
      ]
     },
     "metadata": {},
     "output_type": "display_data"
    }
   ],
   "source": [
    "out = lu(A)"
   ]
  },
  {
   "cell_type": "code",
   "execution_count": 123,
   "metadata": {},
   "outputs": [
    {
     "data": {
      "text/latex": [
       "$x \\left(x - \\frac{1}{x}\\right)$"
      ],
      "text/plain": [
       "  /    1\\\n",
       "x*|x - -|\n",
       "  \\    x/"
      ]
     },
     "metadata": {},
     "output_type": "display_data"
    }
   ],
   "source": [
    "prod(diag(out.L)) * prod(diag(out.U))"
   ]
  },
  {
   "cell_type": "markdown",
   "metadata": {},
   "source": [
    "RREF"
   ]
  },
  {
   "cell_type": "code",
   "execution_count": 124,
   "metadata": {},
   "outputs": [
    {
     "data": {
      "text/latex": [
       "$\\left[\\begin{smallmatrix}1 & 0 & 1 & 3\\\\2 & 3 & 4 & 7\\\\-1 & -3 & -3 & -4\\end{smallmatrix}\\right]$"
      ],
      "text/plain": [
       "3×4 Matrix{Sym{PyCall.PyObject}}:\n",
       "  1   0   1   3\n",
       "  2   3   4   7\n",
       " -1  -3  -3  -4"
      ]
     },
     "metadata": {},
     "output_type": "display_data"
    }
   ],
   "source": [
    "M = sympy.Matrix([[1, 0, 1, 3], [2, 3, 4, 7], [-1, -3, -3, -4]])"
   ]
  },
  {
   "cell_type": "code",
   "execution_count": 125,
   "metadata": {},
   "outputs": [
    {
     "data": {
      "text/plain": [
       "(Sym{PyCall.PyObject}[1 0 1 3; 0 1 2/3 1/3; 0 0 0 0], (0, 1))"
      ]
     },
     "metadata": {},
     "output_type": "display_data"
    }
   ],
   "source": [
    "M.rref()"
   ]
  },
  {
   "cell_type": "markdown",
   "metadata": {},
   "source": [
    "Nullspace"
   ]
  },
  {
   "cell_type": "code",
   "execution_count": 130,
   "metadata": {},
   "outputs": [
    {
     "data": {
      "text/latex": [
       "$\\left[\\begin{smallmatrix}1 & 2 & 3 & 0 & 0\\\\4 & 10 & 0 & 0 & 1\\end{smallmatrix}\\right]$"
      ],
      "text/plain": [
       "2×5 Matrix{Sym}:\n",
       " 1   2  3  0  0\n",
       " 4  10  0  0  1"
      ]
     },
     "metadata": {},
     "output_type": "display_data"
    }
   ],
   "source": [
    "M = Sym[1 2 3 0 0; 4 10 0 0 1]"
   ]
  },
  {
   "cell_type": "code",
   "execution_count": 133,
   "metadata": {},
   "outputs": [
    {
     "data": {
      "text/plain": [
       "3-element Vector{Matrix{Sym{PyCall.PyObject}}}:\n",
       " [-15; 6; … ; 0; 0;;]\n",
       " [0; 0; … ; 1; 0;;]\n",
       " [1; -1/2; … ; 0; 1;;]"
      ]
     },
     "metadata": {},
     "output_type": "display_data"
    }
   ],
   "source": [
    "M.nullspace()"
   ]
  },
  {
   "cell_type": "markdown",
   "metadata": {},
   "source": [
    "Columnspace"
   ]
  },
  {
   "cell_type": "code",
   "execution_count": 134,
   "metadata": {},
   "outputs": [
    {
     "data": {
      "text/latex": [
       "$\\left[\\begin{smallmatrix}1 & 2 & 2\\\\2 & 1 & 3\\\\3 & 1 & 4\\end{smallmatrix}\\right]$"
      ],
      "text/plain": [
       "3×3 Matrix{Sym}:\n",
       " 1  2  2\n",
       " 2  1  3\n",
       " 3  1  4"
      ]
     },
     "metadata": {},
     "output_type": "display_data"
    }
   ],
   "source": [
    "M = Sym[1 2 2; 2 1 3; 3 1 4]"
   ]
  },
  {
   "cell_type": "code",
   "execution_count": 135,
   "metadata": {},
   "outputs": [
    {
     "data": {
      "text/plain": [
       "3-element Vector{Matrix{Sym{PyCall.PyObject}}}:\n",
       " [1; 2; 3;;]\n",
       " [2; 1; 1;;]\n",
       " [2; 3; 4;;]"
      ]
     },
     "metadata": {},
     "output_type": "display_data"
    }
   ],
   "source": [
    "M.columnspace()"
   ]
  },
  {
   "cell_type": "markdown",
   "metadata": {},
   "source": [
    "Eigenvalores, eigenvectores y diagonalización"
   ]
  },
  {
   "cell_type": "code",
   "execution_count": 136,
   "metadata": {},
   "outputs": [
    {
     "data": {
      "text/latex": [
       "$\\left[\\begin{smallmatrix}3 & -2 & 4 & -2\\\\5 & 3 & -3 & -2\\\\5 & -2 & 2 & -2\\\\5 & -2 & -3 & 3\\end{smallmatrix}\\right]$"
      ],
      "text/plain": [
       "4×4 Matrix{Sym}:\n",
       " 3  -2   4  -2\n",
       " 5   3  -3  -2\n",
       " 5  -2   2  -2\n",
       " 5  -2  -3   3"
      ]
     },
     "metadata": {},
     "output_type": "display_data"
    }
   ],
   "source": [
    "M = Sym[3 -2  4 -2; 5  3 -3 -2; 5 -2  2 -2; 5 -2 -3  3]"
   ]
  },
  {
   "cell_type": "code",
   "execution_count": 137,
   "metadata": {},
   "outputs": [
    {
     "data": {
      "text/latex": [
       "\\begin{equation*}\\begin{cases}3 & \\text{=>} &1\\\\5 & \\text{=>} &2\\\\-2 & \\text{=>} &1\\\\\\end{cases}\\end{equation*}"
      ],
      "text/plain": [
       "Dict{Sym{PyCall.PyObject}, Sym{PyCall.PyObject}} with 3 entries:\n",
       "  3  => 1\n",
       "  5  => 2\n",
       "  -2 => 1"
      ]
     },
     "metadata": {},
     "output_type": "display_data"
    }
   ],
   "source": [
    "M.eigenvals()"
   ]
  },
  {
   "cell_type": "code",
   "execution_count": 138,
   "metadata": {},
   "outputs": [
    {
     "data": {
      "text/plain": [
       "3-element Vector{Tuple{Sym{PyCall.PyObject}, Sym{PyCall.PyObject}, Vector{Matrix{Sym{PyCall.PyObject}}}}}:\n",
       " (-2, 1, [[0; 1; 1; 1;;]])\n",
       " (3, 1, [[1; 1; 1; 1;;]])\n",
       " (5, 2, [[1; 1; 1; 0;;], [0; -1; 0; 1;;]])"
      ]
     },
     "metadata": {},
     "output_type": "display_data"
    }
   ],
   "source": [
    "M.eigenvects()"
   ]
  },
  {
   "cell_type": "code",
   "execution_count": 139,
   "metadata": {},
   "outputs": [
    {
     "data": {
      "text/latex": [
       "$\\left[\\begin{smallmatrix}0 & 1 & 1 & 0\\\\1 & 1 & 1 & -1\\\\1 & 1 & 1 & 0\\\\1 & 1 & 0 & 1\\end{smallmatrix}\\right]$"
      ],
      "text/plain": [
       "4×4 Matrix{Sym{PyCall.PyObject}}:\n",
       " 0  1  1   0\n",
       " 1  1  1  -1\n",
       " 1  1  1   0\n",
       " 1  1  0   1"
      ]
     },
     "metadata": {},
     "output_type": "display_data"
    }
   ],
   "source": [
    "eigvecs(M)"
   ]
  },
  {
   "cell_type": "code",
   "execution_count": 140,
   "metadata": {},
   "outputs": [
    {
     "data": {
      "text/plain": [
       "(Sym{PyCall.PyObject}[0 1 1 0; 1 1 1 -1; 1 1 1 0; 1 1 0 1], Sym{PyCall.PyObject}[-2 0 0 0; 0 3 0 0; 0 0 5 0; 0 0 0 5])"
      ]
     },
     "metadata": {},
     "output_type": "display_data"
    }
   ],
   "source": [
    "P, D = M.diagonalize()"
   ]
  },
  {
   "cell_type": "code",
   "execution_count": 141,
   "metadata": {},
   "outputs": [
    {
     "data": {
      "text/latex": [
       "$\\left[\\begin{smallmatrix}0 & 1 & 1 & 0\\\\1 & 1 & 1 & -1\\\\1 & 1 & 1 & 0\\\\1 & 1 & 0 & 1\\end{smallmatrix}\\right]$"
      ],
      "text/plain": [
       "4×4 Matrix{Sym{PyCall.PyObject}}:\n",
       " 0  1  1   0\n",
       " 1  1  1  -1\n",
       " 1  1  1   0\n",
       " 1  1  0   1"
      ]
     },
     "metadata": {},
     "output_type": "display_data"
    }
   ],
   "source": [
    "P"
   ]
  },
  {
   "cell_type": "code",
   "execution_count": 142,
   "metadata": {},
   "outputs": [
    {
     "data": {
      "text/latex": [
       "$\\left[\\begin{smallmatrix}-2 & 0 & 0 & 0\\\\0 & 3 & 0 & 0\\\\0 & 0 & 5 & 0\\\\0 & 0 & 0 & 5\\end{smallmatrix}\\right]$"
      ],
      "text/plain": [
       "4×4 Matrix{Sym{PyCall.PyObject}}:\n",
       " -2  0  0  0\n",
       "  0  3  0  0\n",
       "  0  0  5  0\n",
       "  0  0  0  5"
      ]
     },
     "metadata": {},
     "output_type": "display_data"
    }
   ],
   "source": [
    "D"
   ]
  },
  {
   "cell_type": "code",
   "execution_count": 143,
   "metadata": {},
   "outputs": [
    {
     "data": {
      "text/latex": [
       "$\\left[\\begin{smallmatrix}-1 & 0 & 1 & 0\\\\1 & 1 & -2 & 1\\\\0 & -1 & 2 & -1\\\\0 & -1 & 1 & 0\\end{smallmatrix}\\right]$"
      ],
      "text/plain": [
       "4×4 Matrix{Sym{PyCall.PyObject}}:\n",
       " -1   0   1   0\n",
       "  1   1  -2   1\n",
       "  0  -1   2  -1\n",
       "  0  -1   1   0"
      ]
     },
     "metadata": {},
     "output_type": "display_data"
    }
   ],
   "source": [
    "P^-1"
   ]
  },
  {
   "cell_type": "code",
   "execution_count": 144,
   "metadata": {},
   "outputs": [
    {
     "data": {
      "text/latex": [
       "$\\left[\\begin{smallmatrix}3 & -2 & 4 & -2\\\\5 & 3 & -3 & -2\\\\5 & -2 & 2 & -2\\\\5 & -2 & -3 & 3\\end{smallmatrix}\\right]$"
      ],
      "text/plain": [
       "4×4 Matrix{Sym{PyCall.PyObject}}:\n",
       " 3  -2   4  -2\n",
       " 5   3  -3  -2\n",
       " 5  -2   2  -2\n",
       " 5  -2  -3   3"
      ]
     },
     "metadata": {},
     "output_type": "display_data"
    }
   ],
   "source": [
    "P*D*P^-1"
   ]
  },
  {
   "cell_type": "code",
   "execution_count": 145,
   "metadata": {},
   "outputs": [
    {
     "data": {
      "text/plain": [
       "true"
      ]
     },
     "metadata": {},
     "output_type": "display_data"
    }
   ],
   "source": [
    "P*D*P^-1 == M"
   ]
  },
  {
   "cell_type": "markdown",
   "metadata": {},
   "source": [
    "Polinomio característico"
   ]
  },
  {
   "cell_type": "code",
   "execution_count": 147,
   "metadata": {},
   "outputs": [
    {
     "data": {
      "text/plain": [
       "(lambda,)"
      ]
     },
     "metadata": {},
     "output_type": "display_data"
    }
   ],
   "source": [
    "@syms lambda"
   ]
  },
  {
   "cell_type": "code",
   "execution_count": 148,
   "metadata": {},
   "outputs": [
    {
     "data": {
      "text/latex": [
       "$\\operatorname{PurePoly}{\\left( \\lambda^{4} - 11 \\lambda^{3} + 29 \\lambda^{2} + 35 \\lambda - 150, \\lambda, domain=\\mathbb{Z} \\right)}$"
      ],
      "text/plain": [
       "PurePoly(lambda^4 - 11*lambda^3 + 29*lambda^2 + 35*lambda - 150, lambda, do >\n",
       "\n",
       "> main='ZZ')"
      ]
     },
     "metadata": {},
     "output_type": "display_data"
    }
   ],
   "source": [
    "p = M.charpoly(lambda)"
   ]
  },
  {
   "cell_type": "code",
   "execution_count": 149,
   "metadata": {},
   "outputs": [
    {
     "data": {
      "text/plain": [
       "\"PurePoly(lambda^4 - 11*lambda^3 + 29*lambda^2 + 35*lambda - 150, lambda, domain='ZZ')\""
      ]
     },
     "metadata": {},
     "output_type": "display_data"
    }
   ],
   "source": [
    "factor(p) |>  string"
   ]
  },
  {
   "cell_type": "markdown",
   "metadata": {},
   "source": [
    "Zero testing"
   ]
  },
  {
   "cell_type": "code",
   "execution_count": 151,
   "metadata": {},
   "outputs": [
    {
     "data": {
      "text/latex": [
       "$q$"
      ],
      "text/plain": [
       "q"
      ]
     },
     "metadata": {},
     "output_type": "display_data"
    }
   ],
   "source": [
    "q = sympy.Symbol(\"q\", positive = true)"
   ]
  },
  {
   "cell_type": "code",
   "execution_count": 152,
   "metadata": {},
   "outputs": [
    {
     "data": {
      "text/latex": [
       "$\\left[\\begin{smallmatrix}- 2 \\cosh{\\left(\\frac{q}{3} \\right)} & e^{- q} & 1\\\\e^{q} & - 2 \\cosh{\\left(\\frac{q}{3} \\right)} & 1\\\\1 & 1 & - 2 \\cosh{\\left(\\frac{q}{3} \\right)}\\end{smallmatrix}\\right]$"
      ],
      "text/plain": [
       "3×3 Matrix{Sym}:\n",
       " -2*cosh(q/3)       exp(-q)             1\n",
       "       exp(q)  -2*cosh(q/3)             1\n",
       "            1             1  -2*cosh(q/3)"
      ]
     },
     "metadata": {},
     "output_type": "display_data"
    }
   ],
   "source": [
    "m = Sym[-2*cosh(q/3) exp(-q) 1; exp(q) -2*cosh(q/3) 1; 1 1 -2*cosh(q/3)]"
   ]
  },
  {
   "cell_type": "code",
   "execution_count": 153,
   "metadata": {},
   "outputs": [
    {
     "data": {
      "text/plain": [
       "1-element Vector{Matrix{Sym{PyCall.PyObject}}}:\n",
       " [-(-2*exp(q)*cosh(q/3) - 4*cosh(q/3)^2 - 1 - 2*exp(-q)*cosh(q/3))/(4*exp(q)*cosh(q/3)^2 + 4*cosh(q/3) + exp(-q)); -(1 - 4*cosh(q/3)^2)/(2*cosh(q/3) + exp(-q)); 1;;]"
      ]
     },
     "metadata": {},
     "output_type": "display_data"
    }
   ],
   "source": [
    "m.nullspace()"
   ]
  }
 ],
 "metadata": {
  "kernelspec": {
   "display_name": "Julia 1.11.3",
   "language": "julia",
   "name": "julia-1.11"
  },
  "language_info": {
   "file_extension": ".jl",
   "mimetype": "application/julia",
   "name": "julia",
   "version": "1.11.3"
  }
 },
 "nbformat": 4,
 "nbformat_minor": 2
}
