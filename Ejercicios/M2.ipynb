{
 "cells": [
  {
   "cell_type": "code",
   "execution_count": 3,
   "metadata": {},
   "outputs": [
    {
     "name": "stderr",
     "output_type": "stream",
     "text": [
      "WARNING: using SymPy.N in module Main conflicts with an existing identifier.\n"
     ]
    }
   ],
   "source": [
    "using SymPy\n",
    "using LinearAlgebra"
   ]
  },
  {
   "cell_type": "code",
   "execution_count": 4,
   "metadata": {},
   "outputs": [
    {
     "data": {
      "text/plain": [
       "(c, d, e)"
      ]
     },
     "metadata": {},
     "output_type": "display_data"
    }
   ],
   "source": [
    "@syms c, d, e"
   ]
  },
  {
   "cell_type": "code",
   "execution_count": 5,
   "metadata": {},
   "outputs": [
    {
     "data": {
      "text/latex": [
       "$\\left[\\begin{smallmatrix}c & d\\\\1 & - e\\end{smallmatrix}\\right]$"
      ],
      "text/plain": [
       "2×2 Matrix{Sym}:\n",
       " c   d\n",
       " 1  -e"
      ]
     },
     "metadata": {},
     "output_type": "display_data"
    }
   ],
   "source": [
    "A = Sym[c d; 1 -e]"
   ]
  },
  {
   "cell_type": "code",
   "execution_count": 17,
   "metadata": {},
   "outputs": [
    {
     "data": {
      "text/latex": [
       "$- c e - d$"
      ],
      "text/plain": [
       "-c*e - d"
      ]
     },
     "metadata": {},
     "output_type": "display_data"
    }
   ],
   "source": [
    "det(A)"
   ]
  },
  {
   "cell_type": "code",
   "execution_count": 6,
   "metadata": {},
   "outputs": [
    {
     "data": {
      "text/latex": [
       "$\\left[\\begin{smallmatrix}2\\\\0\\end{smallmatrix}\\right]$"
      ],
      "text/plain": [
       "2-element Vector{Sym}:\n",
       " 2\n",
       " 0"
      ]
     },
     "metadata": {},
     "output_type": "display_data"
    }
   ],
   "source": [
    "b = Sym[2; 0]"
   ]
  },
  {
   "cell_type": "code",
   "execution_count": 12,
   "metadata": {},
   "outputs": [
    {
     "data": {
      "text/latex": [
       "$\\left[\\begin{smallmatrix}\\frac{e}{c e + d} & \\frac{d}{c e + d}\\\\\\frac{1}{c e + d} & - \\frac{c}{c e + d}\\end{smallmatrix}\\right]$"
      ],
      "text/plain": [
       "2×2 Matrix{Sym{PyCall.PyObject}}:\n",
       " e/(c*e + d)   d/(c*e + d)\n",
       " 1/(c*e + d)  -c/(c*e + d)"
      ]
     },
     "metadata": {},
     "output_type": "display_data"
    }
   ],
   "source": [
    "inv(A)"
   ]
  },
  {
   "cell_type": "code",
   "execution_count": 16,
   "metadata": {},
   "outputs": [
    {
     "data": {
      "text/latex": [
       "$\\left[\\begin{smallmatrix}\\frac{2 e}{c e + d}\\\\\\frac{2}{c e + d}\\end{smallmatrix}\\right]$"
      ],
      "text/plain": [
       "2-element Vector{Sym}:\n",
       " 2*e/(c*e + d)\n",
       "   2/(c*e + d)"
      ]
     },
     "metadata": {},
     "output_type": "display_data"
    }
   ],
   "source": [
    "x = A\\b"
   ]
  },
  {
   "cell_type": "code",
   "execution_count": 10,
   "metadata": {},
   "outputs": [
    {
     "data": {
      "text/latex": [
       "$\\left[\\begin{smallmatrix}\\frac{2 e}{c e + d}\\\\\\frac{2}{c e + d}\\end{smallmatrix}\\right]$"
      ],
      "text/plain": [
       "2-element Vector{Sym{PyCall.PyObject}}:\n",
       " 2*e/(c*e + d)\n",
       "   2/(c*e + d)"
      ]
     },
     "metadata": {},
     "output_type": "display_data"
    }
   ],
   "source": [
    "x = A^-1*b"
   ]
  },
  {
   "cell_type": "code",
   "execution_count": 14,
   "metadata": {},
   "outputs": [
    {
     "data": {
      "text/latex": [
       "$\\left[\\begin{smallmatrix}\\frac{c e}{c e + d} + \\frac{d}{c e + d} & 0\\\\0 & \\frac{c e}{c e + d} + \\frac{d}{c e + d}\\end{smallmatrix}\\right]$"
      ],
      "text/plain": [
       "2×2 Matrix{Sym}:\n",
       " c*e/(c*e + d) + d/(c*e + d)                            0\n",
       "                           0  c*e/(c*e + d) + d/(c*e + d)"
      ]
     },
     "metadata": {},
     "output_type": "display_data"
    }
   ],
   "source": [
    "A*inv(A)"
   ]
  },
  {
   "cell_type": "code",
   "execution_count": 18,
   "metadata": {},
   "outputs": [
    {
     "data": {
      "text/latex": [
       "$1$"
      ],
      "text/plain": [
       "1"
      ]
     },
     "metadata": {},
     "output_type": "display_data"
    }
   ],
   "source": [
    "det(A*inv(A))"
   ]
  },
  {
   "cell_type": "code",
   "execution_count": 19,
   "metadata": {},
   "outputs": [
    {
     "data": {
      "text/latex": [
       "$\\left[\\begin{smallmatrix}\\frac{2 c e}{c e + d} + \\frac{2 d}{c e + d}\\\\0\\end{smallmatrix}\\right]$"
      ],
      "text/plain": [
       "2-element Vector{Sym}:\n",
       " 2*c*e/(c*e + d) + 2*d/(c*e + d)\n",
       "                               0"
      ]
     },
     "metadata": {},
     "output_type": "display_data"
    }
   ],
   "source": [
    "A*x"
   ]
  },
  {
   "cell_type": "code",
   "execution_count": 20,
   "metadata": {},
   "outputs": [
    {
     "data": {
      "text/latex": [
       "$\\frac{2 e}{c e + d}$"
      ],
      "text/plain": [
       "  2*e  \n",
       "-------\n",
       "c*e + d"
      ]
     },
     "metadata": {},
     "output_type": "display_data"
    }
   ],
   "source": [
    "x[1]"
   ]
  },
  {
   "cell_type": "code",
   "execution_count": 21,
   "metadata": {},
   "outputs": [
    {
     "data": {
      "text/latex": [
       "$\\frac{2}{c e + d}$"
      ],
      "text/plain": [
       "   2   \n",
       "-------\n",
       "c*e + d"
      ]
     },
     "metadata": {},
     "output_type": "display_data"
    }
   ],
   "source": [
    "x[2]"
   ]
  },
  {
   "cell_type": "code",
   "execution_count": 22,
   "metadata": {},
   "outputs": [
    {
     "data": {
      "text/latex": [
       "$d$"
      ],
      "text/plain": [
       "d"
      ]
     },
     "metadata": {},
     "output_type": "display_data"
    }
   ],
   "source": [
    "A[1,2]"
   ]
  },
  {
   "cell_type": "code",
   "execution_count": 23,
   "metadata": {},
   "outputs": [
    {
     "data": {
      "text/latex": [
       "$\\left[\\begin{smallmatrix}\\overline{c} & \\overline{d}\\\\1 & - \\overline{e}\\end{smallmatrix}\\right]$"
      ],
      "text/plain": [
       "2×2 Matrix{Sym{PyCall.PyObject}}:\n",
       " conjugate(c)   conjugate(d)\n",
       "            1  -conjugate(e)"
      ]
     },
     "metadata": {},
     "output_type": "display_data"
    }
   ],
   "source": [
    "A.conjugate()"
   ]
  },
  {
   "cell_type": "code",
   "execution_count": 24,
   "metadata": {},
   "outputs": [
    {
     "data": {
      "text/latex": [
       "$\\left[\\begin{smallmatrix}c & 1\\\\d & - e\\end{smallmatrix}\\right]$"
      ],
      "text/plain": [
       "2×2 Matrix{Sym{PyCall.PyObject}}:\n",
       " c   1\n",
       " d  -e"
      ]
     },
     "metadata": {},
     "output_type": "display_data"
    }
   ],
   "source": [
    "A.transpose()"
   ]
  },
  {
   "cell_type": "code",
   "execution_count": 25,
   "metadata": {},
   "outputs": [
    {
     "data": {
      "text/latex": [
       "$\\left[\\begin{smallmatrix}c + \\overline{c} & \\overline{d} + 1\\\\d + 1 & - e - \\overline{e}\\end{smallmatrix}\\right]$"
      ],
      "text/plain": [
       "2×2 Matrix{Sym{PyCall.PyObject}}:\n",
       " c + conjugate(c)   conjugate(d) + 1\n",
       "            d + 1  -e - conjugate(e)"
      ]
     },
     "metadata": {},
     "output_type": "display_data"
    }
   ],
   "source": [
    "A.transpose()+A.conjugate()"
   ]
  },
  {
   "cell_type": "code",
   "execution_count": 26,
   "metadata": {},
   "outputs": [
    {
     "data": {
      "text/latex": [
       "$\\left[\\begin{smallmatrix}c \\overline{c} + \\overline{d} & d \\overline{c} - e \\overline{d}\\\\c - \\overline{e} & d + e \\overline{e}\\end{smallmatrix}\\right]$"
      ],
      "text/plain": [
       "2×2 Matrix{Sym{PyCall.PyObject}}:\n",
       " c*conjugate(c) + conjugate(d)  d*conjugate(c) - e*conjugate(d)\n",
       "              c - conjugate(e)               d + e*conjugate(e)"
      ]
     },
     "metadata": {},
     "output_type": "display_data"
    }
   ],
   "source": [
    "A.conjugate()*A"
   ]
  },
  {
   "cell_type": "code",
   "execution_count": 29,
   "metadata": {},
   "outputs": [
    {
     "data": {
      "text/latex": [
       "$\\left[\\begin{smallmatrix}\\frac{d \\left(d + 1\\right)}{c e + d} + \\frac{e \\left(c + \\overline{c}\\right)}{c e + d} & \\frac{d \\left(- e - \\overline{e}\\right)}{c e + d} + \\frac{e \\left(\\overline{d} + 1\\right)}{c e + d}\\\\- \\frac{c \\left(d + 1\\right)}{c e + d} + \\frac{c + \\overline{c}}{c e + d} & - \\frac{c \\left(- e - \\overline{e}\\right)}{c e + d} + \\frac{\\overline{d} + 1}{c e + d}\\end{smallmatrix}\\right]$"
      ],
      "text/plain": [
       "2×2 Matrix{Sym{PyCall.PyObject}}:\n",
       " d*(d + 1)/(c*e + d) + e*(c + conjugate(c))/(c*e + d)  …  d*(-e - conjugate(e))/(c*e + d) + e*(conjugate(d) + 1)/(c*e + d)\n",
       "  -c*(d + 1)/(c*e + d) + (c + conjugate(c))/(c*e + d)      -c*(-e - conjugate(e))/(c*e + d) + (conjugate(d) + 1)/(c*e + d)"
      ]
     },
     "metadata": {},
     "output_type": "display_data"
    }
   ],
   "source": [
    "A.inv()*(A.transpose()+A.conjugate())"
   ]
  },
  {
   "cell_type": "code",
   "execution_count": 31,
   "metadata": {},
   "outputs": [
    {
     "data": {
      "text/latex": [
       "$\\left[\\begin{smallmatrix}\\frac{c e}{c e + d} + \\frac{d}{c e + d} & 0\\\\0 & \\frac{c e}{c e + d} + \\frac{d}{c e + d}\\end{smallmatrix}\\right]$"
      ],
      "text/plain": [
       "2×2 Matrix{Sym{PyCall.PyObject}}:\n",
       " c*e/(c*e + d) + d/(c*e + d)                            0\n",
       "                           0  c*e/(c*e + d) + d/(c*e + d)"
      ]
     },
     "metadata": {},
     "output_type": "display_data"
    }
   ],
   "source": [
    "simplify(A.inv()*A)"
   ]
  },
  {
   "cell_type": "code",
   "execution_count": 33,
   "metadata": {},
   "outputs": [
    {
     "data": {
      "text/latex": [
       "$\\left[\\begin{smallmatrix}c & d\\end{smallmatrix}\\right]$"
      ],
      "text/plain": [
       "1×2 Matrix{Sym{PyCall.PyObject}}:\n",
       " c  d"
      ]
     },
     "metadata": {},
     "output_type": "display_data"
    }
   ],
   "source": [
    "A.row(0)"
   ]
  },
  {
   "cell_type": "code",
   "execution_count": 34,
   "metadata": {},
   "outputs": [
    {
     "data": {
      "text/latex": [
       "$\\left[\\begin{smallmatrix}1 & - e\\end{smallmatrix}\\right]$"
      ],
      "text/plain": [
       "1×2 Matrix{Sym{PyCall.PyObject}}:\n",
       " 1  -e"
      ]
     },
     "metadata": {},
     "output_type": "display_data"
    }
   ],
   "source": [
    "A.row(1)"
   ]
  },
  {
   "cell_type": "code",
   "execution_count": 35,
   "metadata": {},
   "outputs": [
    {
     "data": {
      "text/latex": [
       "$\\left[\\begin{smallmatrix}d\\\\- e\\end{smallmatrix}\\right]$"
      ],
      "text/plain": [
       "2×1 Matrix{Sym{PyCall.PyObject}}:\n",
       "  d\n",
       " -e"
      ]
     },
     "metadata": {},
     "output_type": "display_data"
    }
   ],
   "source": [
    "A.col(1)"
   ]
  },
  {
   "cell_type": "code",
   "execution_count": 37,
   "metadata": {},
   "outputs": [
    {
     "data": {
      "text/latex": [
       "$\\left[\\begin{smallmatrix}c & - e & d\\\\1 & d & - e\\end{smallmatrix}\\right]$"
      ],
      "text/plain": [
       "2×3 Matrix{Sym{PyCall.PyObject}}:\n",
       " c  -e   d\n",
       " 1   d  -e"
      ]
     },
     "metadata": {},
     "output_type": "display_data"
    }
   ],
   "source": [
    "\n",
    "A.col_insert(1, Sym[-e, d])"
   ]
  },
  {
   "cell_type": "code",
   "execution_count": 38,
   "metadata": {},
   "outputs": [
    {
     "data": {
      "text/latex": [
       "$\\left[\\begin{smallmatrix}c & d\\\\1 & - e\\end{smallmatrix}\\right]$"
      ],
      "text/plain": [
       "2×2 Matrix{Sym}:\n",
       " c   d\n",
       " 1  -e"
      ]
     },
     "metadata": {},
     "output_type": "display_data"
    }
   ],
   "source": [
    "A"
   ]
  },
  {
   "cell_type": "code",
   "execution_count": 39,
   "metadata": {},
   "outputs": [
    {
     "data": {
      "text/latex": [
       "\\begin{equation*}\\begin{cases}\\frac{c}{2} - \\frac{e}{2} + \\frac{\\sqrt{c^{2} + 2 c e + 4 d + e^{2}}}{2} & \\text{=>} &1\\\\\\frac{c}{2} - \\frac{e}{2} - \\frac{\\sqrt{c^{2} + 2 c e + 4 d + e^{2}}}{2} & \\text{=>} &1\\\\\\end{cases}\\end{equation*}"
      ],
      "text/plain": [
       "Dict{Sym{PyCall.PyObject}, Sym{PyCall.PyObject}} with 2 entries:\n",
       "  c/2 - e/2 + sqrt(c^2 + 2*c*e + 4*d + e^2)/2 => 1\n",
       "  c/2 - e/2 - sqrt(c^2 + 2*c*e + 4*d + e^2)/2 => 1"
      ]
     },
     "metadata": {},
     "output_type": "display_data"
    }
   ],
   "source": [
    "A.eigenvals()"
   ]
  },
  {
   "cell_type": "code",
   "execution_count": 40,
   "metadata": {},
   "outputs": [
    {
     "data": {
      "text/plain": [
       "2-element Vector{Tuple{Sym{PyCall.PyObject}, Sym{PyCall.PyObject}, Vector{Matrix{Sym{PyCall.PyObject}}}}}:\n",
       " (c/2 - e/2 - sqrt(c^2 + 2*c*e + 4*d + e^2)/2, 1, [[c/2 + e/2 - sqrt(c^2 + 2*c*e + 4*d + e^2)/2; 1;;]])\n",
       " (c/2 - e/2 + sqrt(c^2 + 2*c*e + 4*d + e^2)/2, 1, [[c/2 + e/2 + sqrt(c^2 + 2*c*e + 4*d + e^2)/2; 1;;]])"
      ]
     },
     "metadata": {},
     "output_type": "display_data"
    }
   ],
   "source": [
    "A.eigenvects()"
   ]
  },
  {
   "cell_type": "code",
   "execution_count": 41,
   "metadata": {},
   "outputs": [
    {
     "data": {
      "text/latex": [
       "$\\left[\\begin{smallmatrix}\\frac{c}{2} + \\frac{e}{2} - \\frac{\\sqrt{c^{2} + 2 c e + 4 d + e^{2}}}{2} & \\frac{c}{2} + \\frac{e}{2} + \\frac{\\sqrt{c^{2} + 2 c e + 4 d + e^{2}}}{2}\\\\1 & 1\\end{smallmatrix}\\right]$"
      ],
      "text/plain": [
       "2×2 Matrix{Sym{PyCall.PyObject}}:\n",
       " c/2 + e/2 - sqrt(c^2 + 2*c*e + 4*d + e^2)/2  …  c/2 + e/2 + sqrt(c^2 + 2*c*e + 4*d + e^2)/2\n",
       "                                           1                                               1"
      ]
     },
     "metadata": {},
     "output_type": "display_data"
    }
   ],
   "source": [
    "eigvecs(A)"
   ]
  },
  {
   "cell_type": "code",
   "execution_count": 42,
   "metadata": {},
   "outputs": [
    {
     "data": {
      "text/plain": [
       "(Sym{PyCall.PyObject}[c/2 + e/2 - sqrt(c^2 + 2*c*e + 4*d + e^2)/2 c/2 + e/2 + sqrt(c^2 + 2*c*e + 4*d + e^2)/2; 1 1], Sym{PyCall.PyObject}[c/2 - e/2 - sqrt(c^2 + 2*c*e + 4*d + e^2)/2 0; 0 c/2 - e/2 + sqrt(c^2 + 2*c*e + 4*d + e^2)/2])"
      ]
     },
     "metadata": {},
     "output_type": "display_data"
    }
   ],
   "source": [
    "P, D = A.diagonalize()"
   ]
  },
  {
   "cell_type": "code",
   "execution_count": 43,
   "metadata": {},
   "outputs": [
    {
     "data": {
      "text/latex": [
       "$\\left[\\begin{smallmatrix}\\frac{c}{2} + \\frac{e}{2} - \\frac{\\sqrt{c^{2} + 2 c e + 4 d + e^{2}}}{2} & \\frac{c}{2} + \\frac{e}{2} + \\frac{\\sqrt{c^{2} + 2 c e + 4 d + e^{2}}}{2}\\\\1 & 1\\end{smallmatrix}\\right]$"
      ],
      "text/plain": [
       "2×2 Matrix{Sym{PyCall.PyObject}}:\n",
       " c/2 + e/2 - sqrt(c^2 + 2*c*e + 4*d + e^2)/2  …  c/2 + e/2 + sqrt(c^2 + 2*c*e + 4*d + e^2)/2\n",
       "                                           1                                               1"
      ]
     },
     "metadata": {},
     "output_type": "display_data"
    }
   ],
   "source": [
    "P"
   ]
  },
  {
   "cell_type": "code",
   "execution_count": 44,
   "metadata": {},
   "outputs": [
    {
     "data": {
      "text/latex": [
       "$\\left[\\begin{smallmatrix}\\frac{c}{2} - \\frac{e}{2} - \\frac{\\sqrt{c^{2} + 2 c e + 4 d + e^{2}}}{2} & 0\\\\0 & \\frac{c}{2} - \\frac{e}{2} + \\frac{\\sqrt{c^{2} + 2 c e + 4 d + e^{2}}}{2}\\end{smallmatrix}\\right]$"
      ],
      "text/plain": [
       "2×2 Matrix{Sym{PyCall.PyObject}}:\n",
       " c/2 - e/2 - sqrt(c^2 + 2*c*e + 4*d + e^2)/2  …                                            0\n",
       "                                           0     c/2 - e/2 + sqrt(c^2 + 2*c*e + 4*d + e^2)/2"
      ]
     },
     "metadata": {},
     "output_type": "display_data"
    }
   ],
   "source": [
    "D"
   ]
  },
  {
   "cell_type": "code",
   "execution_count": 45,
   "metadata": {},
   "outputs": [
    {
     "data": {
      "text/latex": [
       "$\\left[\\begin{smallmatrix}- \\frac{1}{\\sqrt{c^{2} + 2 c e + 4 d + e^{2}}} & \\frac{c + e + \\sqrt{c^{2} + 2 c e + 4 d + e^{2}}}{2 \\sqrt{c^{2} + 2 c e + 4 d + e^{2}}}\\\\\\frac{1}{\\sqrt{c^{2} + 2 c e + 4 d + e^{2}}} & \\frac{- c - e + \\sqrt{c^{2} + 2 c e + 4 d + e^{2}}}{2 \\sqrt{c^{2} + 2 c e + 4 d + e^{2}}}\\end{smallmatrix}\\right]$"
      ],
      "text/plain": [
       "2×2 Matrix{Sym{PyCall.PyObject}}:\n",
       " -1/sqrt(c^2 + 2*c*e + 4*d + e^2)  …   (c + e + sqrt(c^2 + 2*c*e + 4*d + e^2))/(2*sqrt(c^2 + 2*c*e + 4*d + e^2))\n",
       "  1/sqrt(c^2 + 2*c*e + 4*d + e^2)     (-c - e + sqrt(c^2 + 2*c*e + 4*d + e^2))/(2*sqrt(c^2 + 2*c*e + 4*d + e^2))"
      ]
     },
     "metadata": {},
     "output_type": "display_data"
    }
   ],
   "source": [
    "P^-1"
   ]
  },
  {
   "cell_type": "code",
   "execution_count": 46,
   "metadata": {},
   "outputs": [
    {
     "data": {
      "text/latex": [
       "$\\left[\\begin{smallmatrix}- \\frac{\\left(\\frac{c}{2} - \\frac{e}{2} - \\frac{\\sqrt{c^{2} + 2 c e + 4 d + e^{2}}}{2}\\right) \\left(\\frac{c}{2} + \\frac{e}{2} - \\frac{\\sqrt{c^{2} + 2 c e + 4 d + e^{2}}}{2}\\right)}{\\sqrt{c^{2} + 2 c e + 4 d + e^{2}}} + \\frac{\\left(\\frac{c}{2} - \\frac{e}{2} + \\frac{\\sqrt{c^{2} + 2 c e + 4 d + e^{2}}}{2}\\right) \\left(\\frac{c}{2} + \\frac{e}{2} + \\frac{\\sqrt{c^{2} + 2 c e + 4 d + e^{2}}}{2}\\right)}{\\sqrt{c^{2} + 2 c e + 4 d + e^{2}}} & \\frac{\\left(- c - e + \\sqrt{c^{2} + 2 c e + 4 d + e^{2}}\\right) \\left(\\frac{c}{2} - \\frac{e}{2} + \\frac{\\sqrt{c^{2} + 2 c e + 4 d + e^{2}}}{2}\\right) \\left(\\frac{c}{2} + \\frac{e}{2} + \\frac{\\sqrt{c^{2} + 2 c e + 4 d + e^{2}}}{2}\\right)}{2 \\sqrt{c^{2} + 2 c e + 4 d + e^{2}}} + \\frac{\\left(\\frac{c}{2} - \\frac{e}{2} - \\frac{\\sqrt{c^{2} + 2 c e + 4 d + e^{2}}}{2}\\right) \\left(\\frac{c}{2} + \\frac{e}{2} - \\frac{\\sqrt{c^{2} + 2 c e + 4 d + e^{2}}}{2}\\right) \\left(c + e + \\sqrt{c^{2} + 2 c e + 4 d + e^{2}}\\right)}{2 \\sqrt{c^{2} + 2 c e + 4 d + e^{2}}}\\\\- \\frac{\\frac{c}{2} - \\frac{e}{2} - \\frac{\\sqrt{c^{2} + 2 c e + 4 d + e^{2}}}{2}}{\\sqrt{c^{2} + 2 c e + 4 d + e^{2}}} + \\frac{\\frac{c}{2} - \\frac{e}{2} + \\frac{\\sqrt{c^{2} + 2 c e + 4 d + e^{2}}}{2}}{\\sqrt{c^{2} + 2 c e + 4 d + e^{2}}} & \\frac{\\left(- c - e + \\sqrt{c^{2} + 2 c e + 4 d + e^{2}}\\right) \\left(\\frac{c}{2} - \\frac{e}{2} + \\frac{\\sqrt{c^{2} + 2 c e + 4 d + e^{2}}}{2}\\right)}{2 \\sqrt{c^{2} + 2 c e + 4 d + e^{2}}} + \\frac{\\left(\\frac{c}{2} - \\frac{e}{2} - \\frac{\\sqrt{c^{2} + 2 c e + 4 d + e^{2}}}{2}\\right) \\left(c + e + \\sqrt{c^{2} + 2 c e + 4 d + e^{2}}\\right)}{2 \\sqrt{c^{2} + 2 c e + 4 d + e^{2}}}\\end{smallmatrix}\\right]$"
      ],
      "text/plain": [
       "2×2 Matrix{Sym{PyCall.PyObject}}:\n",
       " -(c/2 - e/2 - sqrt(c^2 + 2*c*e + 4*d + e^2)/2)*(c/2 + e/2 - sqrt(c^2 + 2*c*e + 4*d + e^2)/2)/sqrt(c^2 + 2*c*e + 4*d + e^2) + (c/2 - e/2 + sqrt(c^2 + 2*c*e + 4*d + e^2)/2)*(c/2 + e/2 + sqrt(c^2 + 2*c*e + 4*d + e^2)/2)/sqrt(c^2 + 2*c*e + 4*d + e^2)  …  (-c - e + sqrt(c^2 + 2*c*e + 4*d + e^2))*(c/2 - e/2 + sqrt(c^2 + 2*c*e + 4*d + e^2)/2)*(c/2 + e/2 + sqrt(c^2 + 2*c*e + 4*d + e^2)/2)/(2*sqrt(c^2 + 2*c*e + 4*d + e^2)) + (c/2 - e/2 - sqrt(c^2 + 2*c*e + 4*d + e^2)/2)*(c/2 + e/2 - sqrt(c^2 + 2*c*e + 4*d + e^2)/2)*(c + e + sqrt(c^2 + 2*c*e + 4*d + e^2))/(2*sqrt(c^2 + 2*c*e + 4*d + e^2))\n",
       "                                                                                             -(c/2 - e/2 - sqrt(c^2 + 2*c*e + 4*d + e^2)/2)/sqrt(c^2 + 2*c*e + 4*d + e^2) + (c/2 - e/2 + sqrt(c^2 + 2*c*e + 4*d + e^2)/2)/sqrt(c^2 + 2*c*e + 4*d + e^2)                                                                                                 (-c - e + sqrt(c^2 + 2*c*e + 4*d + e^2))*(c/2 - e/2 + sqrt(c^2 + 2*c*e + 4*d + e^2)/2)/(2*sqrt(c^2 + 2*c*e + 4*d + e^2)) + (c/2 - e/2 - sqrt(c^2 + 2*c*e + 4*d + e^2)/2)*(c + e + sqrt(c^2 + 2*c*e + 4*d + e^2))/(2*sqrt(c^2 + 2*c*e + 4*d + e^2))"
      ]
     },
     "metadata": {},
     "output_type": "display_data"
    }
   ],
   "source": [
    "P*D*P^-1"
   ]
  },
  {
   "cell_type": "code",
   "execution_count": 47,
   "metadata": {},
   "outputs": [
    {
     "data": {
      "text/plain": [
       "true"
      ]
     },
     "metadata": {},
     "output_type": "display_data"
    }
   ],
   "source": [
    "P*D*P^-1 == A"
   ]
  },
  {
   "cell_type": "code",
   "execution_count": 48,
   "metadata": {},
   "outputs": [
    {
     "data": {
      "text/plain": [
       "(lambda,)"
      ]
     },
     "metadata": {},
     "output_type": "display_data"
    }
   ],
   "source": [
    "@syms lambda"
   ]
  },
  {
   "cell_type": "code",
   "execution_count": 49,
   "metadata": {},
   "outputs": [
    {
     "data": {
      "text/latex": [
       "$\\operatorname{PurePoly}{\\left( \\lambda^{2} + \\left(- c + e\\right) \\lambda -  c e - d, \\lambda, domain=\\mathbb{Z}\\left[c, d, e\\right] \\right)}$"
      ],
      "text/plain": [
       "PurePoly(lambda^2 + (-c + e)*lambda - c*e - d, lambda, domain='ZZ[c,d,e]')"
      ]
     },
     "metadata": {},
     "output_type": "display_data"
    }
   ],
   "source": [
    "p = A.charpoly(lambda)"
   ]
  },
  {
   "cell_type": "code",
   "execution_count": 50,
   "metadata": {},
   "outputs": [
    {
     "data": {
      "text/plain": [
       "\"PurePoly(lambda^2 + (-c + e)*lambda - c*e - d, lambda, domain='ZZ[c,d,e]')\""
      ]
     },
     "metadata": {},
     "output_type": "display_data"
    }
   ],
   "source": [
    "factor(p) |>  string"
   ]
  },
  {
   "cell_type": "markdown",
   "metadata": {},
   "source": [
    "Aproximar a pi"
   ]
  },
  {
   "cell_type": "code",
   "execution_count": 1,
   "metadata": {},
   "outputs": [
    {
     "name": "stdout",
     "output_type": "stream",
     "text": [
      "Aproximación de π: 3.496060928256\n"
     ]
    }
   ],
   "source": [
    "function estimate_pi(N)\n",
    "    count = 0\n",
    "    for _ in 1:N\n",
    "        # Generamos numeros aleatorios entre 0 y 1 de manera uniforme\n",
    "        x = rand()\n",
    "        y = rand()\n",
    "        if y^2 <= sqrt(1 - x^2) # Verificar si está dentro del círculo\n",
    "            count += 1\n",
    "        end\n",
    "    end\n",
    "    return 4 * count / N  # Aproximación de π\n",
    "end\n",
    "\n",
    "# Número de muestras\n",
    "N = 50^6\n",
    "pi_estimate = estimate_pi(N)\n",
    "println(\"Aproximación de π: \", pi_estimate)\n"
   ]
  }
 ],
 "metadata": {
  "kernelspec": {
   "display_name": "Julia 1.11.3",
   "language": "julia",
   "name": "julia-1.11"
  },
  "language_info": {
   "file_extension": ".jl",
   "mimetype": "application/julia",
   "name": "julia",
   "version": "1.11.3"
  }
 },
 "nbformat": 4,
 "nbformat_minor": 2
}
